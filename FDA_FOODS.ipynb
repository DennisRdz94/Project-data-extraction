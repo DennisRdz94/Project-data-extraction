{
 "cells": [
  {
   "cell_type": "code",
   "execution_count": 1,
   "id": "17618ef4-4a23-4196-ac40-8a7efbf14c0e",
   "metadata": {},
   "outputs": [],
   "source": [
    "import requests\n",
    "import json\n",
    "import pandas as pd\n",
    "import os"
   ]
  },
  {
   "cell_type": "code",
   "execution_count": 15,
   "id": "a4d02946-3b4e-42c1-bce2-61eea17e0b8e",
   "metadata": {},
   "outputs": [],
   "source": [
    "api_key= os.environ.get('API_KEY_FDA')"
   ]
  },
  {
   "cell_type": "code",
   "execution_count": 3,
   "id": "6e0a7975-87b4-4073-a379-69ff2a09f72a",
   "metadata": {},
   "outputs": [],
   "source": [
    "### With an API key: 240 requests per minute, per key. 120,000 requests per day, per key."
   ]
  },
  {
   "cell_type": "code",
   "execution_count": 6,
   "id": "1299609b-a20d-4a31-900e-c9c590722db1",
   "metadata": {},
   "outputs": [],
   "source": [
    "foods_fda= requests.get(f'https://api.fda.gov/food/event.json?api_key={api_key}&search=date_started:[20110101+TO+20211231]&limit=1000')"
   ]
  },
  {
   "cell_type": "code",
   "execution_count": 7,
   "id": "f5488432-a796-4801-98a0-b3a500037ebd",
   "metadata": {},
   "outputs": [
    {
     "data": {
      "text/plain": [
       "200"
      ]
     },
     "execution_count": 7,
     "metadata": {},
     "output_type": "execute_result"
    }
   ],
   "source": [
    "foods_fda.status_code"
   ]
  },
  {
   "cell_type": "code",
   "execution_count": 8,
   "id": "0f62c4eb-38d8-4123-8e12-7f0a3c9260da",
   "metadata": {},
   "outputs": [
    {
     "data": {
      "text/plain": [
       "(1000, 9)"
      ]
     },
     "execution_count": 8,
     "metadata": {},
     "output_type": "execute_result"
    }
   ],
   "source": [
    "base= foods_fda.json()\n",
    "resultados= base['results']\n",
    "flat_base= pd.json_normalize(resultados)\n",
    "flat_base.shape"
   ]
  },
  {
   "cell_type": "code",
   "execution_count": 9,
   "id": "440c1ee8-34be-46d1-a39e-999f02621b45",
   "metadata": {},
   "outputs": [
    {
     "data": {
      "text/plain": [
       "43270"
      ]
     },
     "execution_count": 9,
     "metadata": {},
     "output_type": "execute_result"
    }
   ],
   "source": [
    "base_url = f'https://api.fda.gov/food/event.json?api_key={api_key}&search=date_started:[20110101+TO+20211231]&limit=1000'\n",
    "food_data = pd.DataFrame()\n",
    "\n",
    "response = requests.get(base_url)\n",
    "total_count = response.json()['meta']['results']['total']\n",
    "\n",
    "header = response.headers\n",
    "df = pd.json_normalize(response.json()['results'])\n",
    "\n",
    "while 'Link' in response.headers:\n",
    "    next_page= response.headers['Link'].split(';')[0][1:-1] \n",
    "    response = requests.get(next_page)\n",
    "    json_respuesta= response.json()\n",
    "    json_resultados= json_respuesta['results']\n",
    "    flat_data= pd.json_normalize(json_resultados)\n",
    "    food_data=food_data.append(flat_data)\n",
    "    \n",
    "total_count"
   ]
  },
  {
   "cell_type": "code",
   "execution_count": 11,
   "id": "ccfc08fc-c7b1-4880-bddd-3223b4bab02d",
   "metadata": {},
   "outputs": [
    {
     "data": {
      "text/plain": [
       "(43270, 9)"
      ]
     },
     "execution_count": 11,
     "metadata": {},
     "output_type": "execute_result"
    }
   ],
   "source": [
    "final_fda=flat_base.append(food_data)\n",
    "final_fda.shape"
   ]
  },
  {
   "cell_type": "code",
   "execution_count": 12,
   "id": "a0356911-2fbf-4c07-88a9-7c3ab1b669a8",
   "metadata": {},
   "outputs": [
    {
     "name": "stdout",
     "output_type": "stream",
     "text": [
      "43270\n"
     ]
    }
   ],
   "source": [
    "#Aqui solo compruebo que mis datos estan completos a partir de mi conteo total\n",
    "print(total_count)"
   ]
  },
  {
   "cell_type": "code",
   "execution_count": 13,
   "id": "d6ae3bb7-387e-4912-8139-9b2ebe3f801d",
   "metadata": {},
   "outputs": [
    {
     "data": {
      "text/plain": [
       "Index(['report_number', 'outcomes', 'date_created', 'reactions',\n",
       "       'date_started', 'products', 'consumer.age', 'consumer.age_unit',\n",
       "       'consumer.gender'],\n",
       "      dtype='object')"
      ]
     },
     "execution_count": 13,
     "metadata": {},
     "output_type": "execute_result"
    }
   ],
   "source": [
    "final_fda.columns"
   ]
  },
  {
   "cell_type": "code",
   "execution_count": 16,
   "id": "d086d1d9-8959-4d06-bb03-385bd058b85b",
   "metadata": {},
   "outputs": [
    {
     "data": {
      "text/html": [
       "<div>\n",
       "<style scoped>\n",
       "    .dataframe tbody tr th:only-of-type {\n",
       "        vertical-align: middle;\n",
       "    }\n",
       "\n",
       "    .dataframe tbody tr th {\n",
       "        vertical-align: top;\n",
       "    }\n",
       "\n",
       "    .dataframe thead th {\n",
       "        text-align: right;\n",
       "    }\n",
       "</style>\n",
       "<table border=\"1\" class=\"dataframe\">\n",
       "  <thead>\n",
       "    <tr style=\"text-align: right;\">\n",
       "      <th></th>\n",
       "      <th>report_number</th>\n",
       "      <th>outcomes</th>\n",
       "      <th>date_created</th>\n",
       "      <th>reactions</th>\n",
       "      <th>date_started</th>\n",
       "      <th>products</th>\n",
       "      <th>consumer.age</th>\n",
       "      <th>consumer.age_unit</th>\n",
       "      <th>consumer.gender</th>\n",
       "    </tr>\n",
       "  </thead>\n",
       "  <tbody>\n",
       "    <tr>\n",
       "      <th>0</th>\n",
       "      <td>2020-CFS-011364</td>\n",
       "      <td>[Death, Medically Important]</td>\n",
       "      <td>20201105</td>\n",
       "      <td>[INJURY, DEATH]</td>\n",
       "      <td>20170401</td>\n",
       "      <td>[{'role': 'SUSPECT', 'name_brand': 'EXEMPTION ...</td>\n",
       "      <td>56</td>\n",
       "      <td>year(s)</td>\n",
       "      <td>F</td>\n",
       "    </tr>\n",
       "    <tr>\n",
       "      <th>1</th>\n",
       "      <td>2018-CFS-009718</td>\n",
       "      <td>[Medically Important]</td>\n",
       "      <td>20180727</td>\n",
       "      <td>[COLITIS ISCHAEMIC]</td>\n",
       "      <td>20180101</td>\n",
       "      <td>[{'role': 'SUSPECT', 'name_brand': 'CITRACAL C...</td>\n",
       "      <td>79</td>\n",
       "      <td>year(s)</td>\n",
       "      <td>F</td>\n",
       "    </tr>\n",
       "    <tr>\n",
       "      <th>2</th>\n",
       "      <td>2018-CFS-003276</td>\n",
       "      <td>[Medically Important]</td>\n",
       "      <td>20180227</td>\n",
       "      <td>[OVARIAN CANCER]</td>\n",
       "      <td>20120401</td>\n",
       "      <td>[{'role': 'SUSPECT', 'name_brand': 'EXEMPTION ...</td>\n",
       "      <td>NaN</td>\n",
       "      <td>NaN</td>\n",
       "      <td>F</td>\n",
       "    </tr>\n",
       "    <tr>\n",
       "      <th>3</th>\n",
       "      <td>2019-CFS-004071</td>\n",
       "      <td>[Disability, Medically Important]</td>\n",
       "      <td>20190419</td>\n",
       "      <td>[MALAISE, VOMITING]</td>\n",
       "      <td>20190418</td>\n",
       "      <td>[{'role': 'SUSPECT', 'name_brand': 'JAPANESE S...</td>\n",
       "      <td>8</td>\n",
       "      <td>month(s)</td>\n",
       "      <td>F</td>\n",
       "    </tr>\n",
       "    <tr>\n",
       "      <th>4</th>\n",
       "      <td>2019-CFS-002461</td>\n",
       "      <td>[Patient Visited Healthcare Provider, Other Se...</td>\n",
       "      <td>20190308</td>\n",
       "      <td>[HEART RATE IRREGULAR, COSTOCHONDRITIS, EMERGE...</td>\n",
       "      <td>20181229</td>\n",
       "      <td>[{'role': 'SUSPECT', 'name_brand': 'EYEPROMISE...</td>\n",
       "      <td>49</td>\n",
       "      <td>year(s)</td>\n",
       "      <td>F</td>\n",
       "    </tr>\n",
       "  </tbody>\n",
       "</table>\n",
       "</div>"
      ],
      "text/plain": [
       "     report_number                                           outcomes  \\\n",
       "0  2020-CFS-011364                       [Death, Medically Important]   \n",
       "1  2018-CFS-009718                              [Medically Important]   \n",
       "2  2018-CFS-003276                              [Medically Important]   \n",
       "3  2019-CFS-004071                  [Disability, Medically Important]   \n",
       "4  2019-CFS-002461  [Patient Visited Healthcare Provider, Other Se...   \n",
       "\n",
       "  date_created                                          reactions  \\\n",
       "0     20201105                                    [INJURY, DEATH]   \n",
       "1     20180727                                [COLITIS ISCHAEMIC]   \n",
       "2     20180227                                   [OVARIAN CANCER]   \n",
       "3     20190419                                [MALAISE, VOMITING]   \n",
       "4     20190308  [HEART RATE IRREGULAR, COSTOCHONDRITIS, EMERGE...   \n",
       "\n",
       "  date_started                                           products  \\\n",
       "0     20170401  [{'role': 'SUSPECT', 'name_brand': 'EXEMPTION ...   \n",
       "1     20180101  [{'role': 'SUSPECT', 'name_brand': 'CITRACAL C...   \n",
       "2     20120401  [{'role': 'SUSPECT', 'name_brand': 'EXEMPTION ...   \n",
       "3     20190418  [{'role': 'SUSPECT', 'name_brand': 'JAPANESE S...   \n",
       "4     20181229  [{'role': 'SUSPECT', 'name_brand': 'EYEPROMISE...   \n",
       "\n",
       "  consumer.age consumer.age_unit consumer.gender  \n",
       "0           56           year(s)               F  \n",
       "1           79           year(s)               F  \n",
       "2          NaN               NaN               F  \n",
       "3            8          month(s)               F  \n",
       "4           49           year(s)               F  "
      ]
     },
     "execution_count": 16,
     "metadata": {},
     "output_type": "execute_result"
    }
   ],
   "source": [
    "final_fda.head()"
   ]
  },
  {
   "cell_type": "code",
   "execution_count": 14,
   "id": "c612d6da-80d6-482f-8fde-ca2094883896",
   "metadata": {},
   "outputs": [],
   "source": [
    "#Guardar en CSV\n",
    "x=final_fda.to_csv('FDA_Food_10years.csv', index=False)"
   ]
  }
 ],
 "metadata": {
  "kernelspec": {
   "display_name": "Python 3 (ipykernel)",
   "language": "python",
   "name": "python3"
  },
  "language_info": {
   "codemirror_mode": {
    "name": "ipython",
    "version": 3
   },
   "file_extension": ".py",
   "mimetype": "text/x-python",
   "name": "python",
   "nbconvert_exporter": "python",
   "pygments_lexer": "ipython3",
   "version": "3.9.7"
  }
 },
 "nbformat": 4,
 "nbformat_minor": 5
}
